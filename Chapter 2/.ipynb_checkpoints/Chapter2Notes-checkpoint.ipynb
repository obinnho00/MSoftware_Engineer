{
 "cells": [
  {
   "cell_type": "markdown",
   "id": "f8379c85",
   "metadata": {},
   "source": [
    "\n",
    "# Extended Reading Notes: Chapter 2 - Software Process Models and Software Development\n",
    "\n",
    "---\n",
    "\n",
    "## 1. Software Process Models\n",
    "\n",
    "- **Waterfall Model**: A linear, sequential approach where each phase must be completed before moving to the next. Suitable for well-understood projects with clear, unchanging requirements.\n",
    "  - Used for safety-critical systems where **rigorous documentation** and review are crucial.\n",
    "  - Ideal for systems like **antilock braking** where strict verification and testing at each phase are necessary.\n",
    "  \n",
    "- **Incremental Model**: The system is developed and delivered in small, manageable increments, with each increment adding more functionality.\n",
    "  - Best for systems that **replace existing ones** or evolve gradually, such as a university accounting system.\n",
    "  - Early versions can provide **partial functionality** to users while later increments refine and extend the system.\n",
    "  \n",
    "- **Spiral Model**: Combines iterative development with a focus on risk analysis. Each cycle involves planning, risk evaluation, and development.\n",
    "  - Effective for systems like **virtual reality maintenance systems** where there's a high level of uncertainty and technical risk.\n",
    "  - Allows for gradual development while continuously addressing risks, making it useful for **complex, high-risk projects**.\n",
    "  \n",
    "- **Agile Methodologies**: Emphasizes collaboration, iterative development, and flexibility in responding to changes.\n",
    "  - Appropriate for systems that require frequent feedback and user involvement, such as **interactive travel planning systems**.\n",
    "  - Encourages adaptability to evolving requirements and changing market or environmental conditions.\n",
    "    "
   ]
  },
  {
   "cell_type": "markdown",
   "id": "e9b3ab61",
   "metadata": {},
   "source": [
    "\n",
    "## 2. The Integration and Configuration Process Model\n",
    "\n",
    "- This model emphasizes the use of existing, pre-built components that are integrated and configured to meet user needs.\n",
    "- **Requirements engineering** is often repeated during this process because:\n",
    "  - The components used may have **limitations or capabilities** not fully understood at the beginning of the project.\n",
    "  - Adjusting the system’s requirements based on **available components** helps ensure the final product aligns with both user expectations and the technical reality.\n",
    "  - Continuous validation ensures that the chosen components are **fit for purpose** as integration progresses.\n",
    "    "
   ]
  },
  {
   "cell_type": "markdown",
   "id": "c2c35bc9",
   "metadata": {},
   "source": [
    "\n",
    "## 3. Importance of Differentiating User and System Requirements\n",
    "\n",
    "- **User Requirements**: Focus on what the user expects from the system, typically written in **non-technical language**.\n",
    "  - These requirements describe how the system will support the user’s tasks, interactions, and goals.\n",
    "  \n",
    "- **System Requirements**: Technical specifications that describe how the system will meet the user requirements.\n",
    "  - These requirements are more **detailed and formal**, providing a guide for developers and ensuring that the system operates as expected under specific conditions.\n",
    "  \n",
    "- **Why is this distinction important?**\n",
    "  - User requirements help define the **problem** that the system will solve, while system requirements offer a **blueprint** for how that solution will be implemented.\n",
    "  - Mixing up these two requirements can lead to a system that either doesn’t meet user needs or is overly complex and difficult to develop.\n",
    "  - **System requirements translate user needs** into actionable development goals while maintaining technical feasibility.\n",
    "    "
   ]
  },
  {
   "cell_type": "markdown",
   "id": "b6c1c02d",
   "metadata": {},
   "source": [
    "\n",
    "## 4. Software Testing as an Incremental and Staged Activity\n",
    "\n",
    "- **Incremental Testing**:\n",
    "  - It allows the verification of individual components or subsystems before they are integrated into the complete system.\n",
    "  - This early and **granular approach** to testing helps identify bugs or issues early in the process when they are easier and cheaper to fix.\n",
    "  - For example, testing the **user interface** of an application before adding back-end functionality helps isolate design flaws.\n",
    "  \n",
    "- **Staged Testing**:\n",
    "  - Once the components are tested individually, they need to be integrated and tested as part of the larger system.\n",
    "  - **System integration testing** ensures that all components work together as intended, addressing any issues related to interactions between different modules.\n",
    "  \n",
    "- **Should Programmers Test Their Own Code?**\n",
    "  - While developers can perform **unit tests** and debug their code, they may not always be the best individuals to conduct comprehensive testing because:\n",
    "    - They are often too close to the code and may miss issues due to **confirmation bias**.\n",
    "    - **Independent testers** or QA teams can bring a fresh perspective and are trained to think critically about the system, identifying issues developers might overlook.\n",
    "  - However, developers should still perform basic testing to catch errors before handing the system over to external testers.\n",
    "    "
   ]
  },
  {
   "cell_type": "markdown",
   "id": "e44d34b0",
   "metadata": {},
   "source": [
    "\n",
    "## 5. The SEI Capability Maturity Framework: Process Assessment and Improvement\n",
    "\n",
    "- The **SEI’s Capability Maturity Model (CMM)** offers a framework for evaluating the maturity of an organization's software development processes.\n",
    "  \n",
    "### Advantages:\n",
    "1. **Structured Improvement Path**:\n",
    "   - The CMM provides a **structured, gradual approach** to improving an organization’s processes, offering clear steps to move from one maturity level to the next.\n",
    "   - This helps companies improve their software development efficiency and quality in a **manageable, systematic way**.\n",
    "   \n",
    "2. **Standardization and Benchmarking**:\n",
    "   - Organizations can use the CMM to **benchmark themselves** against industry standards, allowing them to see where they stand relative to competitors.\n",
    "   - This standardization promotes **best practices** and helps align organizational goals with software quality objectives.\n",
    "\n",
    "### Disadvantages:\n",
    "1. **Rigidity in Dynamic Environments**:\n",
    "   - The model can be **rigid**, especially for organizations that need flexibility, such as Agile teams that prioritize adaptability over adhering to predefined processes.\n",
    "   - Its linear progression through levels may not fit companies that require more iterative or flexible approaches.\n",
    "   \n",
    "2. **Resource Demands**:\n",
    "   - Achieving higher levels of maturity requires significant investment in **training, process documentation, and organizational change**, which can be resource-intensive.\n",
    "   - Smaller companies or startups may struggle to justify the costs and time required to implement the framework effectively.\n",
    "    "
   ]
  }
 ],
 "metadata": {},
 "nbformat": 4,
 "nbformat_minor": 5
}
